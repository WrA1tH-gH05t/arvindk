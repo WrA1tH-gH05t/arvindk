{
 "cells": [
  {
   "cell_type": "code",
   "execution_count": 1,
   "id": "86b7a112-0eda-48d9-bece-8e1ff444780f",
   "metadata": {},
   "outputs": [
    {
     "name": "stdout",
     "output_type": "stream",
     "text": [
      "Hello, World\n"
     ]
    }
   ],
   "source": [
    "print(\"Hello, World\")"
   ]
  },
  {
   "cell_type": "code",
   "execution_count": 2,
   "id": "0c275f8d-c396-4c69-988b-1a31f002b5ca",
   "metadata": {},
   "outputs": [
    {
     "name": "stdout",
     "output_type": "stream",
     "text": [
      "Hello World\n"
     ]
    }
   ],
   "source": [
    "a = \"Hello\"\n",
    "b = \"World\"\n",
    "c = a + \" \" + b\n",
    "print(c)"
   ]
  },
  {
   "cell_type": "code",
   "execution_count": 3,
   "id": "61bca905-a7a4-48e9-bf16-99f5459beaed",
   "metadata": {},
   "outputs": [
    {
     "name": "stdout",
     "output_type": "stream",
     "text": [
      "My name is John, I am 36\n"
     ]
    }
   ],
   "source": [
    "age = 36\n",
    "txt = f\"My name is John, I am {age}\"\n",
    "print(txt)"
   ]
  },
  {
   "cell_type": "code",
   "execution_count": 4,
   "id": "7055adbf-663c-4c35-a5bf-595607504dcd",
   "metadata": {},
   "outputs": [
    {
     "name": "stdout",
     "output_type": "stream",
     "text": [
      "       banana       \n"
     ]
    }
   ],
   "source": [
    "txt = \"banana\"\n",
    "\n",
    "x = txt.center(20)\n",
    "\n",
    "print(x)"
   ]
  },
  {
   "cell_type": "code",
   "execution_count": 5,
   "id": "1122e3c3-514a-4a15-84cd-d9c50d441af7",
   "metadata": {},
   "outputs": [
    {
     "name": "stdout",
     "output_type": "stream",
     "text": [
      "False\n"
     ]
    }
   ],
   "source": [
    "print(bool(0))"
   ]
  },
  {
   "cell_type": "code",
   "execution_count": 6,
   "id": "cc7aa117-eef8-462a-a89f-8cb4e3119f1f",
   "metadata": {},
   "outputs": [
    {
     "name": "stdout",
     "output_type": "stream",
     "text": [
      "True\n"
     ]
    }
   ],
   "source": [
    "print(bool(\"abc\"))"
   ]
  },
  {
   "cell_type": "code",
   "execution_count": 7,
   "id": "1af9931a-62ad-4432-bf20-2e14e12ada2f",
   "metadata": {},
   "outputs": [
    {
     "name": "stdout",
     "output_type": "stream",
     "text": [
      "[50, 65, 23, 82, 100]\n"
     ]
    }
   ],
   "source": [
    "def func(n):\n",
    "    return abs(n-50)\n",
    "list1=[100, 50, 65, 82, 23]\n",
    "list1.sort(key=func)\n",
    "print(list1)"
   ]
  },
  {
   "cell_type": "code",
   "execution_count": 11,
   "id": "fb1f6797-2ec1-40d8-a967-f79c48095dff",
   "metadata": {},
   "outputs": [
    {
     "name": "stdout",
     "output_type": "stream",
     "text": [
      "apple\n",
      "['banana', 'cherry']\n",
      "strawberry\n",
      "('apple', 'banana', 'cherry', 'strawberry', 'apple', 'banana', 'cherry', 'strawberry')\n"
     ]
    }
   ],
   "source": [
    "fruits = (\"apple\", \"banana\", \"cherry\",\"strawberry\")\n",
    "\n",
    "(green, *yellow, red) = fruits\n",
    "\n",
    "print(green)\n",
    "print(yellow)\n",
    "print(red)\n",
    "print(fruits*2)"
   ]
  },
  {
   "cell_type": "code",
   "execution_count": 14,
   "id": "d6061e1d-e007-4897-906a-29fe80b1faa5",
   "metadata": {},
   "outputs": [
    {
     "name": "stdout",
     "output_type": "stream",
     "text": [
      "{'child1': {'name': 'Emil', 'year': 2004}, 'child2': {'name': 'Tobias', 'year': 2007}, 'child3': {'name': 'Linus', 'year': 2011}}\n",
      "child1\n",
      "name: Emil\n",
      "year: 2004\n",
      "child2\n",
      "name: Tobias\n",
      "year: 2007\n",
      "child3\n",
      "name: Linus\n",
      "year: 2011\n"
     ]
    }
   ],
   "source": [
    "child1 = {\n",
    "  \"name\" : \"Emil\",\n",
    "  \"year\" : 2004\n",
    "}\n",
    "child2 = {\n",
    "  \"name\" : \"Tobias\",\n",
    "  \"year\" : 2007\n",
    "}\n",
    "child3 = {\n",
    "  \"name\" : \"Linus\",\n",
    "  \"year\" : 2011\n",
    "}\n",
    "\n",
    "myfamily = {\n",
    "  \"child1\" : child1,\n",
    "  \"child2\" : child2,\n",
    "  \"child3\" : child3\n",
    "}\n",
    "print(myfamily)\n",
    "for x, obj in myfamily.items():\n",
    "  print(x)\n",
    "\n",
    "  for y in obj:\n",
    "    print(y + ':', obj[y])"
   ]
  },
  {
   "cell_type": "code",
   "execution_count": 3,
   "id": "2d6b0193-42db-4771-943a-484f75219b63",
   "metadata": {},
   "outputs": [
    {
     "name": "stdout",
     "output_type": "stream",
     "text": [
      "2\n",
      "4\n",
      "6\n",
      "8\n",
      "We have 4 even numbers.\n"
     ]
    }
   ],
   "source": [
    "count=0\n",
    "for i in range(1,10):\n",
    "    if i%2==0: \n",
    "        print(i)\n",
    "        count+=1\n",
    "    else:\n",
    "        continue\n",
    "print(f\"We have {count} even numbers.\")"
   ]
  },
  {
   "cell_type": "code",
   "execution_count": 5,
   "id": "26ab1cb8-1aa7-44df-8061-afd67d960b9e",
   "metadata": {},
   "outputs": [
    {
     "name": "stdout",
     "output_type": "stream",
     "text": [
      "75\n"
     ]
    }
   ],
   "source": [
    "numbers=[3,12,2,5,75,43,32]\n",
    "max=numbers[0]\n",
    "for i in numbers:\n",
    "    if i>max:\n",
    "        max=i\n",
    "print(max)"
   ]
  },
  {
   "cell_type": "code",
   "execution_count": 12,
   "id": "f74879be-239a-4efe-9b5b-b7300d2a9cf2",
   "metadata": {},
   "outputs": [
    {
     "name": "stdout",
     "output_type": "stream",
     "text": [
      "[5]\n"
     ]
    }
   ],
   "source": [
    "numbers=[2,3,4,5,5]\n",
    "distinct=[]\n",
    "for i in numbers:\n",
    "    if numbers.count(i)>1 and i not in distinct:\n",
    "        distinct.append(i)\n",
    "print(distinct)"
   ]
  },
  {
   "cell_type": "code",
   "execution_count": 13,
   "id": "3a570b52-e534-46ee-b033-2f81338a6917",
   "metadata": {},
   "outputs": [
    {
     "name": "stdin",
     "output_type": "stream",
     "text": [
      "Enter age: 67\n"
     ]
    },
    {
     "name": "stdout",
     "output_type": "stream",
     "text": [
      "You are eligible to vote and apple for senior discount\n"
     ]
    }
   ],
   "source": [
    "age=int(input(\"Enter age:\"))\n",
    "if 65>age>=18:\n",
    "    print(\"You are eligible to vote\")\n",
    "elif age>=65:\n",
    "        print(\"You are eligible to vote and apple for senior discount\")\n",
    "elif 18>age>=13:\n",
    "    print(\"You are just a teenager.Stay in school and study properly\")\n",
    "elif 5<age<13:\n",
    "    print(\"YOu are a kid.You have no rights to stay on a computer looking about voting and senior discount\")\n",
    "elif 2<=age<=5:\n",
    "    print(\"YOu are a toddler or you are just playing with me but learn your ABCs well\")\n",
    "elif 0<age<2:\n",
    "    print(\"So you just came out and decided,yes the first thing i would like to do is look up a code on voting and senior discounts\")\n",
    "else:\n",
    "    print(\"this code is self explanatory but you are not\")"
   ]
  },
  {
   "cell_type": "code",
   "execution_count": 15,
   "id": "8a3f4a3c-bcc6-46d1-9442-e64c17fe6848",
   "metadata": {},
   "outputs": [
    {
     "name": "stdout",
     "output_type": "stream",
     "text": [
      "John Doe\n",
      "dict_keys(['name', 'age', 'courses', 'is_enrolled', 'grade'])\n",
      "dict_values(['John Doe', 21, ['Math', 'Physics', 'Chemistry'], True, 'A'])\n",
      "dict_items([('name', 'John Doe'), ('age', 21), ('courses', ['Math', 'Physics', 'Chemistry']), ('is_enrolled', True), ('grade', 'A')])\n"
     ]
    }
   ],
   "source": [
    "# Creating dictionaries\n",
    "student = {\n",
    "    \"name\": \"John Doe\",\n",
    "    \"age\": 20,\n",
    "    \"courses\": [\"Math\", \"Physics\", \"Chemistry\"],\n",
    "    \"is_enrolled\": True\n",
    "}\n",
    "\n",
    "# Accessing and modifying dictionary data\n",
    "print(student[\"name\"])              # John Doe\n",
    "student[\"grade\"] = \"A\"              # Add new key-value pair\n",
    "student[\"age\"] = 21                 # Update existing value\n",
    "\n",
    "# Dictionary methods\n",
    "print(student.keys())               # Get all keys\n",
    "print(student.values())             # Get all values\n",
    "print(student.items())              # Get key-value pairs\n"
   ]
  },
  {
   "cell_type": "code",
   "execution_count": 18,
   "id": "00c018ba-b4eb-449c-bd02-9f7112e1bb54",
   "metadata": {},
   "outputs": [
    {
     "name": "stdout",
     "output_type": "stream",
     "text": [
      "(2, 3)\n"
     ]
    }
   ],
   "source": [
    "import random\n",
    "class Dice:\n",
    "    def roll(self):\n",
    "        first=random.randint(1,6)\n",
    "        second=random.randint(1,6)\n",
    "        return first,second\n",
    "\n",
    "dice=Dice()\n",
    "print(dice.roll())"
   ]
  },
  {
   "cell_type": "code",
   "execution_count": 24,
   "id": "b7ab77a9-051e-4cce-94ac-3b444432524b",
   "metadata": {},
   "outputs": [
    {
     "name": "stdout",
     "output_type": "stream",
     "text": [
      "['Setosa']\n"
     ]
    },
    {
     "name": "stderr",
     "output_type": "stream",
     "text": [
      "C:\\Users\\a.kumar-e\\AppData\\Local\\anaconda3\\Lib\\site-packages\\sklearn\\linear_model\\_logistic.py:465: ConvergenceWarning: lbfgs failed to converge (status=1):\n",
      "STOP: TOTAL NO. of ITERATIONS REACHED LIMIT.\n",
      "\n",
      "Increase the number of iterations (max_iter) or scale the data as shown in:\n",
      "    https://scikit-learn.org/stable/modules/preprocessing.html\n",
      "Please also refer to the documentation for alternative solver options:\n",
      "    https://scikit-learn.org/stable/modules/linear_model.html#logistic-regression\n",
      "  n_iter_i = _check_optimize_result(\n"
     ]
    }
   ],
   "source": [
    "\n",
    "#import dataset\n",
    "import pandas as pd\n",
    "from sklearn.linear_model import LogisticRegression\n",
    "\n",
    "#load dataset\n",
    "\n",
    "iris_data=pd.read_csv('C:\\\\Users\\\\a.kumar-e\\\\OneDrive - ARADA\\\\Desktop\\\\iris.csv')\n",
    "iris_data.head()\n",
    "\n",
    "#split data\n",
    "\n",
    "X = iris_data.drop(columns=['variety'])\n",
    "Y = iris_data['variety']\n",
    "\n",
    "X.head()\n",
    "\n",
    "\n",
    "#create a model\n",
    "\n",
    "model=LogisticRegression()\n",
    "\n",
    "#train model\n",
    "model.fit(X.values,Y)\n",
    "\n",
    "\n",
    "#predictions\n",
    "predictions=model.predict([[4.6,3.5,1.5,0.2]])\n",
    "print(predictions)"
   ]
  },
  {
   "cell_type": "code",
   "execution_count": null,
   "id": "7e8b8ede-58e4-4a42-a43b-bab5e77e3521",
   "metadata": {},
   "outputs": [],
   "source": []
  }
 ],
 "metadata": {
  "kernelspec": {
   "display_name": "Python 3 (ipykernel)",
   "language": "python",
   "name": "python3"
  },
  "language_info": {
   "codemirror_mode": {
    "name": "ipython",
    "version": 3
   },
   "file_extension": ".py",
   "mimetype": "text/x-python",
   "name": "python",
   "nbconvert_exporter": "python",
   "pygments_lexer": "ipython3",
   "version": "3.12.7"
  }
 },
 "nbformat": 4,
 "nbformat_minor": 5
}
